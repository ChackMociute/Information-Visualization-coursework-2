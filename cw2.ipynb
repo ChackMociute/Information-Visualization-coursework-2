{
 "cells": [
  {
   "cell_type": "markdown",
   "id": "c8b318b8-8bb8-41ca-b37c-6d096fba7be9",
   "metadata": {},
   "source": [
    "# Information Visualization\n",
    "## Coursework 2"
   ]
  },
  {
   "cell_type": "code",
   "execution_count": null,
   "id": "82843895-08aa-425b-8461-9d1c278c8796",
   "metadata": {},
   "outputs": [],
   "source": [
    "from experiment import BarExperiment, MapExperiment"
   ]
  },
  {
   "cell_type": "code",
   "execution_count": null,
   "id": "4db4dbde-8aff-4627-8801-3fe0acda672f",
   "metadata": {},
   "outputs": [],
   "source": [
    "be = BarExperiment()\n",
    "be.run()\n",
    "be.save_data()\n",
    "be.print_results()"
   ]
  },
  {
   "cell_type": "code",
   "execution_count": null,
   "id": "11f6fadf-f800-44d2-af29-c9c2fe4e9754",
   "metadata": {},
   "outputs": [],
   "source": [
    "me = MapExperiment()\n",
    "me.run()\n",
    "me.save_data()\n",
    "me.print_results()"
   ]
  }
 ],
 "metadata": {
  "kernelspec": {
   "display_name": "Python 3 (ipykernel)",
   "language": "python",
   "name": "python3"
  },
  "language_info": {
   "codemirror_mode": {
    "name": "ipython",
    "version": 3
   },
   "file_extension": ".py",
   "mimetype": "text/x-python",
   "name": "python",
   "nbconvert_exporter": "python",
   "pygments_lexer": "ipython3",
   "version": "3.10.7"
  }
 },
 "nbformat": 4,
 "nbformat_minor": 5
}
